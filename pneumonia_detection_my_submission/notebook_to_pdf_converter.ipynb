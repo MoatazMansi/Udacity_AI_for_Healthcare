{
 "cells": [
  {
   "cell_type": "code",
   "execution_count": 1,
   "metadata": {},
   "outputs": [
    {
     "name": "stdout",
     "output_type": "stream",
     "text": [
      "Collecting notebook-as-pdf\n",
      "  Downloading notebook_as_pdf-0.3.1-py3-none-any.whl (6.2 kB)\n",
      "Requirement already satisfied: nbconvert in c:\\users\\19083812\\appdata\\local\\continuum\\anaconda3\\lib\\site-packages (from notebook-as-pdf) (5.6.0)\n",
      "Collecting pyppeteer\n",
      "  Downloading pyppeteer-0.2.2-py3-none-any.whl (145 kB)\n",
      "Collecting PyPDF2\n",
      "  Downloading PyPDF2-1.26.0.tar.gz (77 kB)\n",
      "Requirement already satisfied: nbformat>=4.4 in c:\\users\\19083812\\appdata\\local\\continuum\\anaconda3\\lib\\site-packages (from nbconvert->notebook-as-pdf) (4.4.0)\n",
      "Requirement already satisfied: jinja2>=2.4 in c:\\users\\19083812\\appdata\\local\\continuum\\anaconda3\\lib\\site-packages (from nbconvert->notebook-as-pdf) (2.10.3)\n",
      "Requirement already satisfied: mistune<2,>=0.8.1 in c:\\users\\19083812\\appdata\\local\\continuum\\anaconda3\\lib\\site-packages (from nbconvert->notebook-as-pdf) (0.8.4)\n",
      "Requirement already satisfied: pandocfilters>=1.4.1 in c:\\users\\19083812\\appdata\\local\\continuum\\anaconda3\\lib\\site-packages (from nbconvert->notebook-as-pdf) (1.4.2)\n",
      "Requirement already satisfied: testpath in c:\\users\\19083812\\appdata\\local\\continuum\\anaconda3\\lib\\site-packages (from nbconvert->notebook-as-pdf) (0.4.2)\n",
      "Requirement already satisfied: entrypoints>=0.2.2 in c:\\users\\19083812\\appdata\\local\\continuum\\anaconda3\\lib\\site-packages (from nbconvert->notebook-as-pdf) (0.3)\n",
      "Requirement already satisfied: jupyter-core in c:\\users\\19083812\\appdata\\local\\continuum\\anaconda3\\lib\\site-packages (from nbconvert->notebook-as-pdf) (4.5.0)\n",
      "Requirement already satisfied: defusedxml in c:\\users\\19083812\\appdata\\local\\continuum\\anaconda3\\lib\\site-packages (from nbconvert->notebook-as-pdf) (0.6.0)\n",
      "Requirement already satisfied: bleach in c:\\users\\19083812\\appdata\\local\\continuum\\anaconda3\\lib\\site-packages (from nbconvert->notebook-as-pdf) (3.1.0)\n",
      "Requirement already satisfied: traitlets>=4.2 in c:\\users\\19083812\\appdata\\local\\continuum\\anaconda3\\lib\\site-packages (from nbconvert->notebook-as-pdf) (4.3.3)\n",
      "Requirement already satisfied: pygments in c:\\users\\19083812\\appdata\\local\\continuum\\anaconda3\\lib\\site-packages (from nbconvert->notebook-as-pdf) (2.4.2)\n",
      "Collecting tqdm<5.0.0,>=4.42.1\n",
      "  Downloading tqdm-4.47.0-py2.py3-none-any.whl (66 kB)\n",
      "Collecting pyee<8.0.0,>=7.0.1\n",
      "  Downloading pyee-7.0.2-py2.py3-none-any.whl (12 kB)\n",
      "Collecting appdirs<2.0.0,>=1.4.3\n",
      "  Downloading appdirs-1.4.4-py2.py3-none-any.whl (9.6 kB)\n",
      "Collecting urllib3<2.0.0,>=1.25.8\n",
      "  Downloading urllib3-1.25.9-py2.py3-none-any.whl (126 kB)\n",
      "Collecting websockets<9.0,>=8.1\n",
      "  Downloading websockets-8.1-cp37-cp37m-win_amd64.whl (66 kB)\n",
      "Requirement already satisfied: ipython-genutils in c:\\users\\19083812\\appdata\\local\\continuum\\anaconda3\\lib\\site-packages (from nbformat>=4.4->nbconvert->notebook-as-pdf) (0.2.0)\n",
      "Requirement already satisfied: jsonschema!=2.5.0,>=2.4 in c:\\users\\19083812\\appdata\\local\\continuum\\anaconda3\\lib\\site-packages (from nbformat>=4.4->nbconvert->notebook-as-pdf) (3.0.2)\n",
      "Requirement already satisfied: MarkupSafe>=0.23 in c:\\users\\19083812\\appdata\\local\\continuum\\anaconda3\\lib\\site-packages (from jinja2>=2.4->nbconvert->notebook-as-pdf) (1.1.1)\n",
      "Requirement already satisfied: six>=1.9.0 in c:\\users\\19083812\\appdata\\local\\continuum\\anaconda3\\lib\\site-packages (from bleach->nbconvert->notebook-as-pdf) (1.12.0)\n",
      "Requirement already satisfied: webencodings in c:\\users\\19083812\\appdata\\local\\continuum\\anaconda3\\lib\\site-packages (from bleach->nbconvert->notebook-as-pdf) (0.5.1)\n",
      "Requirement already satisfied: decorator in c:\\users\\19083812\\appdata\\local\\continuum\\anaconda3\\lib\\site-packages (from traitlets>=4.2->nbconvert->notebook-as-pdf) (4.4.0)\n",
      "Requirement already satisfied: pyrsistent>=0.14.0 in c:\\users\\19083812\\appdata\\local\\continuum\\anaconda3\\lib\\site-packages (from jsonschema!=2.5.0,>=2.4->nbformat>=4.4->nbconvert->notebook-as-pdf) (0.15.4)\n",
      "Requirement already satisfied: setuptools in c:\\users\\19083812\\appdata\\local\\continuum\\anaconda3\\lib\\site-packages (from jsonschema!=2.5.0,>=2.4->nbformat>=4.4->nbconvert->notebook-as-pdf) (41.4.0)\n",
      "Requirement already satisfied: attrs>=17.4.0 in c:\\users\\19083812\\appdata\\local\\continuum\\anaconda3\\lib\\site-packages (from jsonschema!=2.5.0,>=2.4->nbformat>=4.4->nbconvert->notebook-as-pdf) (19.2.0)\n",
      "Building wheels for collected packages: PyPDF2\n",
      "  Building wheel for PyPDF2 (setup.py): started\n",
      "  Building wheel for PyPDF2 (setup.py): finished with status 'done'\n",
      "  Created wheel for PyPDF2: filename=PyPDF2-1.26.0-py3-none-any.whl size=61086 sha256=91d0531d5fea9f1c9fb321ebb35c6b01d3cf04c0f78938d0b2342c9392d91b54\n",
      "  Stored in directory: c:\\users\\19083812\\appdata\\local\\pip\\cache\\wheels\\80\\1a\\24\\648467ade3a77ed20f35cfd2badd32134e96dd25ca811e64b3\n",
      "Successfully built PyPDF2\n",
      "Installing collected packages: tqdm, pyee, appdirs, urllib3, websockets, pyppeteer, PyPDF2, notebook-as-pdf\n",
      "  Attempting uninstall: tqdm\n",
      "    Found existing installation: tqdm 4.36.1\n",
      "    Uninstalling tqdm-4.36.1:\n",
      "      Successfully uninstalled tqdm-4.36.1\n",
      "  Attempting uninstall: urllib3\n",
      "    Found existing installation: urllib3 1.24.2\n",
      "    Uninstalling urllib3-1.24.2:\n",
      "      Successfully uninstalled urllib3-1.24.2\n",
      "Successfully installed PyPDF2-1.26.0 appdirs-1.4.4 notebook-as-pdf-0.3.1 pyee-7.0.2 pyppeteer-0.2.2 tqdm-4.47.0 urllib3-1.25.9 websockets-8.1\n"
     ]
    },
    {
     "name": "stderr",
     "output_type": "stream",
     "text": [
      "WARNING: You are using pip version 20.0.2; however, version 20.1.1 is available.\n",
      "You should consider upgrading via the 'c:\\users\\19083812\\appdata\\local\\continuum\\anaconda3\\python.exe -m pip install --upgrade pip' command.\n"
     ]
    }
   ],
   "source": [
    "!pip install notebook-as-pdf"
   ]
  },
  {
   "cell_type": "code",
   "execution_count": 2,
   "metadata": {},
   "outputs": [
    {
     "name": "stderr",
     "output_type": "stream",
     "text": [
      "[NbConvertApp] Converting notebook FDA_submission_Jamiu.ipynb to PDFviaHTML\n",
      "[W:pyppeteer.chromium_downloader] start chromium download.\n",
      "Download may take a few minutes.\n",
      "\n",
      "  0%|          | 0/136913619 [00:00<?, ?it/s]\n",
      "  0%|          | 92160/136913619 [00:00<02:36, 874210.55it/s]\n",
      "  0%|          | 430080/136913619 [00:00<02:01, 1122392.61it/s]\n",
      "  1%|          | 1361920/136913619 [00:00<01:28, 1524414.61it/s]\n",
      "  4%|3         | 5232640/136913619 [00:00<01:01, 2141359.45it/s]\n",
      "  7%|6         | 9451520/136913619 [00:00<00:42, 2993507.13it/s]\n",
      "  9%|8         | 11694080/136913619 [00:00<00:32, 3799699.96it/s]\n",
      " 10%|9         | 13578240/136913619 [00:00<00:24, 4995595.13it/s]\n",
      " 16%|#5        | 21616640/136913619 [00:00<00:16, 6933596.63it/s]\n",
      " 22%|##2       | 30791680/136913619 [00:01<00:11, 9565124.31it/s]\n",
      " 29%|##8       | 39290880/136913619 [00:01<00:07, 13031018.06it/s]\n",
      " 36%|###6      | 49336320/136913619 [00:01<00:04, 17515521.90it/s]\n",
      " 43%|####2     | 58726400/136913619 [00:01<00:03, 22861526.13it/s]\n",
      " 48%|####8     | 66365440/136913619 [00:01<00:02, 28916673.61it/s]\n",
      " 55%|#####5    | 75356160/136913619 [00:01<00:01, 36268272.21it/s]\n",
      " 61%|######    | 83148800/136913619 [00:01<00:01, 39113793.51it/s]\n",
      " 66%|######5   | 90040320/136913619 [00:01<00:01, 44147294.39it/s]\n",
      " 73%|#######3  | 100065280/136913619 [00:02<00:00, 48707480.19it/s]\n",
      " 80%|########  | 110151680/136913619 [00:02<00:00, 56741128.73it/s]\n",
      " 86%|########5 | 117565440/136913619 [00:02<00:00, 59659937.17it/s]\n",
      " 93%|#########2| 126658560/136913619 [00:02<00:00, 59213815.24it/s]\n",
      "100%|##########| 136913619/136913619 [00:02<00:00, 55239317.60it/s]\n",
      "[W:pyppeteer.chromium_downloader] \n",
      "chromium download done.\n",
      "[W:pyppeteer.chromium_downloader] chromium extracted to: C:\\Users\\19083812\\AppData\\Local\\pyppeteer\\pyppeteer\\local-chromium\\588429\n",
      "[NbConvertApp] Writing 454044 bytes to FDA_submission_Jamiu.pdf\n"
     ]
    }
   ],
   "source": [
    "!jupyter-nbconvert --to PDFviaHTML FDA_submission_Jamiu.ipynb"
   ]
  }
 ],
 "metadata": {
  "kernelspec": {
   "display_name": "Python 3",
   "language": "python",
   "name": "python3"
  },
  "language_info": {
   "codemirror_mode": {
    "name": "ipython",
    "version": 3
   },
   "file_extension": ".py",
   "mimetype": "text/x-python",
   "name": "python",
   "nbconvert_exporter": "python",
   "pygments_lexer": "ipython3",
   "version": "3.7.4"
  }
 },
 "nbformat": 4,
 "nbformat_minor": 4
}
